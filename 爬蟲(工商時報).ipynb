{
 "cells": [
  {
   "cell_type": "code",
   "execution_count": 82,
   "metadata": {},
   "outputs": [],
   "source": [
    "import requests\n",
    "import json\n",
    "from bs4 import BeautifulSoup\n",
    "import pandas as pd\n",
    "import re\n",
    "from datetime import datetime\n",
    "\n",
    "headers = {'User-Agent': 'Mozilla/5.0 (Windows NT 10.0; Win64; x64) AppleWebKit/537.36 (KHTML, like Gecko) Chrome/73.0.3683.103 Safari/537.36'}"
   ]
  },
  {
   "cell_type": "code",
   "execution_count": 84,
   "metadata": {},
   "outputs": [],
   "source": [
    "def GetNews_commercialtimes(response):\n",
    "    soup = BeautifulSoup(response.text)\n",
    "    url = soup.find('link')['href']\n",
    "    print(url)\n",
    "    ndf = pd.DataFrame(data = [{'TITLE':soup.find('h1', attrs={'class':'single-post-title'}).text,\n",
    "                                'TIME':datetime.strptime(soup.find('meta', attrs={'property':'article:published_time'})['content'],'%Y-%m-%dT%H:%M:%S+00:00'),\n",
    "                                # 'CATEGORY':soup.find('meta',attrs={'property':'article:section'})['content'],\n",
    "                                'DESCRIPTION':soup.find('meta',attrs={'name':'description'})['content'],\n",
    "                                'CONTENT':'\\n'.join(i.text for i in soup.find('div',attrs={'class':'entry-content clearfix single-post-content'}).find_all('p')),\n",
    "                                # 'KEYWORDS':soup.find('meta',{'name':'news_keywords'})['content'],\n",
    "                                'FROM':soup.find('meta',{'property':'og:site_name'})['content'],\n",
    "                                'LINK':soup.find('meta', {'property':'og:url'})['content']}],\n",
    "                       columns = ['TITLE', 'TIME', 'DESCRIPTION', 'CONTENT', 'FROM', 'LINK']) \n",
    "    return ndf"
   ]
  },
  {
   "cell_type": "code",
   "execution_count": 10,
   "metadata": {},
   "outputs": [
    {
     "name": "stdout",
     "output_type": "stream",
     "text": [
      "https://cteecors.azureedge.net\n"
     ]
    },
    {
     "data": {
      "text/html": [
       "<div>\n",
       "<style scoped>\n",
       "    .dataframe tbody tr th:only-of-type {\n",
       "        vertical-align: middle;\n",
       "    }\n",
       "\n",
       "    .dataframe tbody tr th {\n",
       "        vertical-align: top;\n",
       "    }\n",
       "\n",
       "    .dataframe thead th {\n",
       "        text-align: right;\n",
       "    }\n",
       "</style>\n",
       "<table border=\"1\" class=\"dataframe\">\n",
       "  <thead>\n",
       "    <tr style=\"text-align: right;\">\n",
       "      <th></th>\n",
       "      <th>TITLE</th>\n",
       "      <th>TIME</th>\n",
       "      <th>DESCRIPTION</th>\n",
       "      <th>CONTENT</th>\n",
       "      <th>FROM</th>\n",
       "      <th>LINK</th>\n",
       "    </tr>\n",
       "  </thead>\n",
       "  <tbody>\n",
       "    <tr>\n",
       "      <th>0</th>\n",
       "      <td>\\n車用電子、LED不妙？專家示警這2檔</td>\n",
       "      <td>2022-06-04 07:27:14</td>\n",
       "      <td>「新小奇」不妙！專家示警兩檔成照妖鏡 台股近期漲多回檔，相較大型權值股修正，改由電子小兵接棒...</td>\n",
       "      <td>台股近期漲多回檔，相較大型權值股修正，改由電子小兵接棒演出，其中以新興產業、小股本、具獨特利...</td>\n",
       "      <td>工商時報</td>\n",
       "      <td>https://ctee.com.tw/news/stocks/654327.html</td>\n",
       "    </tr>\n",
       "  </tbody>\n",
       "</table>\n",
       "</div>"
      ],
      "text/plain": [
       "                  TITLE                TIME  \\\n",
       "0  \\n車用電子、LED不妙？專家示警這2檔 2022-06-04 07:27:14   \n",
       "\n",
       "                                         DESCRIPTION  \\\n",
       "0  「新小奇」不妙！專家示警兩檔成照妖鏡 台股近期漲多回檔，相較大型權值股修正，改由電子小兵接棒...   \n",
       "\n",
       "                                             CONTENT  FROM  \\\n",
       "0  台股近期漲多回檔，相較大型權值股修正，改由電子小兵接棒演出，其中以新興產業、小股本、具獨特利...  工商時報   \n",
       "\n",
       "                                          LINK  \n",
       "0  https://ctee.com.tw/news/stocks/654327.html  "
      ]
     },
     "execution_count": 10,
     "metadata": {},
     "output_type": "execute_result"
    }
   ],
   "source": [
    "# url = 'https://ctee.com.tw/news/stocks/654327.html'\n",
    "# resp = requests.get(url)\n",
    "# GetNews_chinatimes(resp)"
   ]
  },
  {
   "cell_type": "code",
   "execution_count": 85,
   "metadata": {},
   "outputs": [],
   "source": [
    "def GetLinks_commercialtimes(response):\n",
    "    links = []\n",
    "    soup = BeautifulSoup(response.text)\n",
    "    for i in soup.find_all('h2'):\n",
    "        url = i.find('a')['href']\n",
    "        links.append(url)\n",
    "    return links"
   ]
  },
  {
   "cell_type": "code",
   "execution_count": 68,
   "metadata": {},
   "outputs": [
    {
     "data": {
      "text/plain": [
       "['https://ctee.com.tw/realtimenews/cna/654563.html',\n",
       " 'https://ctee.com.tw/news/tech/654392.html',\n",
       " 'https://ctee.com.tw/news/tech/654211.html',\n",
       " 'https://ctee.com.tw/news/tech/654144.html',\n",
       " 'https://ctee.com.tw/news/tech/653953.html',\n",
       " 'https://ctee.com.tw/news/stocks/653644.html',\n",
       " 'https://ctee.com.tw/news/global/653561.html',\n",
       " 'https://ctee.com.tw/bookstore/magazine/653476.html',\n",
       " 'https://ctee.com.tw/news/stocks/653438.html',\n",
       " 'https://ctee.com.tw/news/stocks/653423.html']"
      ]
     },
     "execution_count": 68,
     "metadata": {},
     "output_type": "execute_result"
    }
   ],
   "source": [
    "# url = 'https://ctee.com.tw/tag/台積電'\n",
    "# resp = requests.get(url)\n",
    "# GetLinks_chinatimes(resp)"
   ]
  },
  {
   "cell_type": "code",
   "execution_count": 86,
   "metadata": {},
   "outputs": [],
   "source": [
    "def Crawl(url):\n",
    "    try:\n",
    "        return requests.get(url, headers=headers)\n",
    "    except:\n",
    "        pass"
   ]
  },
  {
   "cell_type": "code",
   "execution_count": 89,
   "metadata": {},
   "outputs": [],
   "source": [
    "def CrawlNews_commercialtimes(keywords, pages):\n",
    "    links = []\n",
    "    for i in range(pages):\n",
    "        url = 'https://ctee.com.tw/tag/{}/page/{}'.format(keywords, i)\n",
    "        print(url)\n",
    "        resp = requests.get(url)\n",
    "        links += GetLinks_commercialtimes(resp)\n",
    "        links = list(set(links))  \n",
    "        print(links)\n",
    "        print('There are {} links in page {}.'.format(len(links),str(i)))\n",
    "\n",
    "    responses = [Crawl(link) for link in links]\n",
    "\n",
    "    list_of_dataframes = []\n",
    "    for response in responses:\n",
    "        try:\n",
    "            ndf = GetNews_commercialtimes(response)\n",
    "            list_of_dataframes.append(ndf)\n",
    "        except:\n",
    "            pass\n",
    "    df = pd.concat(list_of_dataframes, ignore_index=True)\n",
    "    print('There are {} News in DataFrame.'.format(len(df)))\n",
    "    return df"
   ]
  },
  {
   "cell_type": "code",
   "execution_count": 90,
   "metadata": {},
   "outputs": [
    {
     "name": "stdout",
     "output_type": "stream",
     "text": [
      "https://ctee.com.tw/tag/台積電/page/0\n",
      "['https://ctee.com.tw/news/tech/654144.html', 'https://ctee.com.tw/news/global/653561.html', 'https://ctee.com.tw/news/tech/654392.html', 'https://ctee.com.tw/news/tech/654211.html', 'https://ctee.com.tw/news/stocks/653644.html', 'https://ctee.com.tw/realtimenews/cna/654563.html', 'https://ctee.com.tw/news/tech/653953.html', 'https://ctee.com.tw/news/stocks/653423.html', 'https://ctee.com.tw/bookstore/magazine/653476.html', 'https://ctee.com.tw/news/stocks/653438.html']\n",
      "There are 10 links in page 0.\n",
      "https://ctee.com.tw/tag/台積電/page/1\n",
      "['https://ctee.com.tw/news/tech/654144.html', 'https://ctee.com.tw/news/global/653561.html', 'https://ctee.com.tw/news/tech/654392.html', 'https://ctee.com.tw/news/tech/654211.html', 'https://ctee.com.tw/news/stocks/653644.html', 'https://ctee.com.tw/realtimenews/cna/654563.html', 'https://ctee.com.tw/news/tech/653953.html', 'https://ctee.com.tw/news/stocks/653423.html', 'https://ctee.com.tw/bookstore/magazine/653476.html', 'https://ctee.com.tw/news/stocks/653438.html']\n",
      "There are 10 links in page 1.\n",
      "https://cteecors.azureedge.net\n",
      "https://cteecors.azureedge.net\n",
      "https://cteecors.azureedge.net\n",
      "https://cteecors.azureedge.net\n",
      "https://cteecors.azureedge.net\n",
      "https://cteecors.azureedge.net\n",
      "https://cteecors.azureedge.net\n",
      "https://cteecors.azureedge.net\n",
      "https://cteecors.azureedge.net\n",
      "There are 9 News in DataFrame.\n"
     ]
    }
   ],
   "source": [
    "df = CrawlNews_commercialtimes(keywords='台積電', pages=2)"
   ]
  },
  {
   "cell_type": "code",
   "execution_count": 91,
   "metadata": {},
   "outputs": [
    {
     "data": {
      "text/html": [
       "<div>\n",
       "<style scoped>\n",
       "    .dataframe tbody tr th:only-of-type {\n",
       "        vertical-align: middle;\n",
       "    }\n",
       "\n",
       "    .dataframe tbody tr th {\n",
       "        vertical-align: top;\n",
       "    }\n",
       "\n",
       "    .dataframe thead th {\n",
       "        text-align: right;\n",
       "    }\n",
       "</style>\n",
       "<table border=\"1\" class=\"dataframe\">\n",
       "  <thead>\n",
       "    <tr style=\"text-align: right;\">\n",
       "      <th></th>\n",
       "      <th>TITLE</th>\n",
       "      <th>TIME</th>\n",
       "      <th>DESCRIPTION</th>\n",
       "      <th>CONTENT</th>\n",
       "      <th>FROM</th>\n",
       "      <th>LINK</th>\n",
       "    </tr>\n",
       "  </thead>\n",
       "  <tbody>\n",
       "    <tr>\n",
       "      <th>0</th>\n",
       "      <td>\\n台積電在美建廠縮時短片 網友：Amazing</td>\n",
       "      <td>2022-06-03 11:40:13</td>\n",
       "      <td>晶圓代工龍頭台積電斥資120億美元於美國亞利桑那州鳳凰城興建晶圓廠，台積電周四（2日）在職場...</td>\n",
       "      <td>晶圓代工龍頭台積電斥資120億美元於美國亞利桑那州鳳凰城興建晶圓廠，台積電周四（2日）在職場...</td>\n",
       "      <td>工商時報</td>\n",
       "      <td>https://ctee.com.tw/news/tech/654144.html</td>\n",
       "    </tr>\n",
       "    <tr>\n",
       "      <th>1</th>\n",
       "      <td>\\n谷歌大單台積搶輸三星？外媒揭內幕</td>\n",
       "      <td>2022-06-02 06:05:44</td>\n",
       "      <td>台積電搶輸死敵？美巨頭新晶片下單韓廠 背後1大誘因擋不了 三星因4奈米良率不佳，迫使大客戶高...</td>\n",
       "      <td>三星因4奈米良率不佳，迫使大客戶高通將驍龍8 Gen1 Plus旗艦晶片轉由台積電4奈米生產...</td>\n",
       "      <td>工商時報</td>\n",
       "      <td>https://ctee.com.tw/news/global/653561.html</td>\n",
       "    </tr>\n",
       "    <tr>\n",
       "      <th>2</th>\n",
       "      <td>\\n台積股東會聚焦漲價 劉德音對3奈米有信心</td>\n",
       "      <td>2022-06-04 21:00:00</td>\n",
       "      <td>台積電周三（8日）召開年度股東常會，由董事長劉德音主持。股東會主要議題為去年營業報告、盈餘分...</td>\n",
       "      <td>台積電周三（8日）召開年度股東常會，由董事長劉德音主持。股東會主要議題為去年營業報告、盈餘分...</td>\n",
       "      <td>工商時報</td>\n",
       "      <td>https://ctee.com.tw/news/tech/654392.html</td>\n",
       "    </tr>\n",
       "    <tr>\n",
       "      <th>3</th>\n",
       "      <td>\\n全球晶圓代工廠營收 去年增31％</td>\n",
       "      <td>2022-06-03 17:00:00</td>\n",
       "      <td>市場研究機構Gartner（顧能）最新統計顯示，2021年全球晶圓代工產業營收規模首度突破千...</td>\n",
       "      <td>市場研究機構Gartner（顧能）最新統計顯示，2021年全球晶圓代工產業營收規模首度突破千...</td>\n",
       "      <td>工商時報</td>\n",
       "      <td>https://ctee.com.tw/news/tech/654211.html</td>\n",
       "    </tr>\n",
       "    <tr>\n",
       "      <th>4</th>\n",
       "      <td>\\n防端午變盤？大咖賣544張台積結果曝</td>\n",
       "      <td>2022-06-02 07:51:39</td>\n",
       "      <td>大咖狠賣500張台積電賠千萬 網見細節驚呼：很強了 台積電近期走勢震盪，前陣子一度殺到波段低...</td>\n",
       "      <td>台積電近期走勢震盪，前陣子一度殺到波段低點505元，近期則一路反彈最高來到560元，部分買在...</td>\n",
       "      <td>工商時報</td>\n",
       "      <td>https://ctee.com.tw/news/stocks/653644.html</td>\n",
       "    </tr>\n",
       "    <tr>\n",
       "      <th>5</th>\n",
       "      <td>\\n重量級股東會將登場 法人估台股區間震盪</td>\n",
       "      <td>2022-06-05 11:09:18</td>\n",
       "      <td>台股上周上揚286.35點，漲幅約1.76%，周線連3紅。法人表示，本周將有台積電等重量級企...</td>\n",
       "      <td>台股上周上揚286.35點，漲幅約1.76%，周線連3紅。法人表示，本周將有台積電等重量級企...</td>\n",
       "      <td>工商時報</td>\n",
       "      <td>https://ctee.com.tw/realtimenews/cna/654563.html</td>\n",
       "    </tr>\n",
       "    <tr>\n",
       "      <th>6</th>\n",
       "      <td>\\n全球半導體設備Q1出貨 同期新高</td>\n",
       "      <td>2022-06-02 17:00:00</td>\n",
       "      <td>達246.9億美元，較去年同期增加5％，前三大設備採購地區分別為大陸、韓國、台灣。</td>\n",
       "      <td>年增5% ，全年可望再創紀錄 陸、韓、台廠商積極擴產，居採購前三強\\n國際半導體產業協會（S...</td>\n",
       "      <td>工商時報</td>\n",
       "      <td>https://ctee.com.tw/news/tech/653953.html</td>\n",
       "    </tr>\n",
       "    <tr>\n",
       "      <th>7</th>\n",
       "      <td>\\n連假將至買盤觀望 台積開低 早盤跌逾百點</td>\n",
       "      <td>2022-06-02 01:20:45</td>\n",
       "      <td>台股加權指數2日開低在16,605.46點，權王台積電（2330）開低在544元，大型權值股...</td>\n",
       "      <td>台股加權指數2日開低在16,605.46點，權王台積電（2330）開低在544元，大型權值股...</td>\n",
       "      <td>工商時報</td>\n",
       "      <td>https://ctee.com.tw/news/stocks/653423.html</td>\n",
       "    </tr>\n",
       "    <tr>\n",
       "      <th>8</th>\n",
       "      <td>\\n台股想空翻多 還有兩大魔王關待解</td>\n",
       "      <td>2022-06-02 02:08:19</td>\n",
       "      <td>台股近節情怯，連2天走低，專家提醒，台股多空節奏將緊跟那斯達克，因台灣電子股跌幅較美國科技股...</td>\n",
       "      <td>台股近節情怯，連2天走低，專家提醒，台股多空節奏將緊跟那斯達克，因台灣電子股跌幅較美國科技股...</td>\n",
       "      <td>工商時報</td>\n",
       "      <td>https://ctee.com.tw/news/stocks/653438.html</td>\n",
       "    </tr>\n",
       "  </tbody>\n",
       "</table>\n",
       "</div>"
      ],
      "text/plain": [
       "                      TITLE                TIME  \\\n",
       "0  \\n台積電在美建廠縮時短片 網友：Amazing 2022-06-03 11:40:13   \n",
       "1        \\n谷歌大單台積搶輸三星？外媒揭內幕 2022-06-02 06:05:44   \n",
       "2    \\n台積股東會聚焦漲價 劉德音對3奈米有信心 2022-06-04 21:00:00   \n",
       "3        \\n全球晶圓代工廠營收 去年增31％ 2022-06-03 17:00:00   \n",
       "4      \\n防端午變盤？大咖賣544張台積結果曝 2022-06-02 07:51:39   \n",
       "5     \\n重量級股東會將登場 法人估台股區間震盪 2022-06-05 11:09:18   \n",
       "6        \\n全球半導體設備Q1出貨 同期新高 2022-06-02 17:00:00   \n",
       "7    \\n連假將至買盤觀望 台積開低 早盤跌逾百點 2022-06-02 01:20:45   \n",
       "8        \\n台股想空翻多 還有兩大魔王關待解 2022-06-02 02:08:19   \n",
       "\n",
       "                                         DESCRIPTION  \\\n",
       "0  晶圓代工龍頭台積電斥資120億美元於美國亞利桑那州鳳凰城興建晶圓廠，台積電周四（2日）在職場...   \n",
       "1  台積電搶輸死敵？美巨頭新晶片下單韓廠 背後1大誘因擋不了 三星因4奈米良率不佳，迫使大客戶高...   \n",
       "2  台積電周三（8日）召開年度股東常會，由董事長劉德音主持。股東會主要議題為去年營業報告、盈餘分...   \n",
       "3  市場研究機構Gartner（顧能）最新統計顯示，2021年全球晶圓代工產業營收規模首度突破千...   \n",
       "4  大咖狠賣500張台積電賠千萬 網見細節驚呼：很強了 台積電近期走勢震盪，前陣子一度殺到波段低...   \n",
       "5  台股上周上揚286.35點，漲幅約1.76%，周線連3紅。法人表示，本周將有台積電等重量級企...   \n",
       "6          達246.9億美元，較去年同期增加5％，前三大設備採購地區分別為大陸、韓國、台灣。   \n",
       "7  台股加權指數2日開低在16,605.46點，權王台積電（2330）開低在544元，大型權值股...   \n",
       "8  台股近節情怯，連2天走低，專家提醒，台股多空節奏將緊跟那斯達克，因台灣電子股跌幅較美國科技股...   \n",
       "\n",
       "                                             CONTENT  FROM  \\\n",
       "0  晶圓代工龍頭台積電斥資120億美元於美國亞利桑那州鳳凰城興建晶圓廠，台積電周四（2日）在職場...  工商時報   \n",
       "1  三星因4奈米良率不佳，迫使大客戶高通將驍龍8 Gen1 Plus旗艦晶片轉由台積電4奈米生產...  工商時報   \n",
       "2  台積電周三（8日）召開年度股東常會，由董事長劉德音主持。股東會主要議題為去年營業報告、盈餘分...  工商時報   \n",
       "3  市場研究機構Gartner（顧能）最新統計顯示，2021年全球晶圓代工產業營收規模首度突破千...  工商時報   \n",
       "4  台積電近期走勢震盪，前陣子一度殺到波段低點505元，近期則一路反彈最高來到560元，部分買在...  工商時報   \n",
       "5  台股上周上揚286.35點，漲幅約1.76%，周線連3紅。法人表示，本周將有台積電等重量級企...  工商時報   \n",
       "6  年增5% ，全年可望再創紀錄 陸、韓、台廠商積極擴產，居採購前三強\\n國際半導體產業協會（S...  工商時報   \n",
       "7  台股加權指數2日開低在16,605.46點，權王台積電（2330）開低在544元，大型權值股...  工商時報   \n",
       "8  台股近節情怯，連2天走低，專家提醒，台股多空節奏將緊跟那斯達克，因台灣電子股跌幅較美國科技股...  工商時報   \n",
       "\n",
       "                                               LINK  \n",
       "0         https://ctee.com.tw/news/tech/654144.html  \n",
       "1       https://ctee.com.tw/news/global/653561.html  \n",
       "2         https://ctee.com.tw/news/tech/654392.html  \n",
       "3         https://ctee.com.tw/news/tech/654211.html  \n",
       "4       https://ctee.com.tw/news/stocks/653644.html  \n",
       "5  https://ctee.com.tw/realtimenews/cna/654563.html  \n",
       "6         https://ctee.com.tw/news/tech/653953.html  \n",
       "7       https://ctee.com.tw/news/stocks/653423.html  \n",
       "8       https://ctee.com.tw/news/stocks/653438.html  "
      ]
     },
     "execution_count": 91,
     "metadata": {},
     "output_type": "execute_result"
    }
   ],
   "source": [
    "df"
   ]
  }
 ],
 "metadata": {
  "interpreter": {
   "hash": "26de051ba29f2982a8de78e945f0abaf191376122a1563185a90213a26c5da77"
  },
  "kernelspec": {
   "display_name": "Python 3.10.4 64-bit",
   "language": "python",
   "name": "python3"
  },
  "language_info": {
   "codemirror_mode": {
    "name": "ipython",
    "version": 3
   },
   "file_extension": ".py",
   "mimetype": "text/x-python",
   "name": "python",
   "nbconvert_exporter": "python",
   "pygments_lexer": "ipython3",
   "version": "3.10.4"
  },
  "orig_nbformat": 4
 },
 "nbformat": 4,
 "nbformat_minor": 2
}
