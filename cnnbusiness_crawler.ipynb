{
 "cells": [
  {
   "cell_type": "code",
   "execution_count": 16,
   "metadata": {},
   "outputs": [],
   "source": [
    "import json\n",
    "import pandas as pd\n",
    "import numpy as np\n",
    "\n",
    "from selenium import webdriver\n",
    "from selenium.webdriver.common.by import By\n",
    "import time\n",
    "from selenium.webdriver.chrome.options import Options\n",
    "from newspaper import Article"
   ]
  },
  {
   "cell_type": "code",
   "execution_count": 17,
   "metadata": {},
   "outputs": [],
   "source": [
    "a = np.arange(0, 200, 10)\n",
    "b = np.arange(1, 21)"
   ]
  },
  {
   "cell_type": "code",
   "execution_count": 18,
   "metadata": {},
   "outputs": [
    {
     "data": {
      "text/plain": [
       "array([  0,  10,  20,  30,  40,  50,  60,  70,  80,  90, 100, 110, 120,\n",
       "       130, 140, 150, 160, 170, 180, 190])"
      ]
     },
     "metadata": {},
     "output_type": "display_data"
    },
    {
     "data": {
      "text/plain": [
       "array([ 1,  2,  3,  4,  5,  6,  7,  8,  9, 10, 11, 12, 13, 14, 15, 16, 17,\n",
       "       18, 19, 20])"
      ]
     },
     "metadata": {},
     "output_type": "display_data"
    }
   ],
   "source": [
    "display(a, b)"
   ]
  },
  {
   "cell_type": "code",
   "execution_count": 19,
   "metadata": {},
   "outputs": [],
   "source": [
    "urls = []\n",
    "for froms, pages in zip(a, b):\n",
    "    urls.append('https://search.api.cnn.com/content?q=amazon&size=10&from=' + str(froms) +'&page='+ str(pages) + '&sort=newest')"
   ]
  },
  {
   "cell_type": "code",
   "execution_count": 20,
   "metadata": {},
   "outputs": [
    {
     "data": {
      "text/plain": [
       "['https://search.api.cnn.com/content?q=amazon&size=10&from=0&page=1&sort=newest',\n",
       " 'https://search.api.cnn.com/content?q=amazon&size=10&from=10&page=2&sort=newest',\n",
       " 'https://search.api.cnn.com/content?q=amazon&size=10&from=20&page=3&sort=newest',\n",
       " 'https://search.api.cnn.com/content?q=amazon&size=10&from=30&page=4&sort=newest',\n",
       " 'https://search.api.cnn.com/content?q=amazon&size=10&from=40&page=5&sort=newest',\n",
       " 'https://search.api.cnn.com/content?q=amazon&size=10&from=50&page=6&sort=newest',\n",
       " 'https://search.api.cnn.com/content?q=amazon&size=10&from=60&page=7&sort=newest',\n",
       " 'https://search.api.cnn.com/content?q=amazon&size=10&from=70&page=8&sort=newest',\n",
       " 'https://search.api.cnn.com/content?q=amazon&size=10&from=80&page=9&sort=newest',\n",
       " 'https://search.api.cnn.com/content?q=amazon&size=10&from=90&page=10&sort=newest',\n",
       " 'https://search.api.cnn.com/content?q=amazon&size=10&from=100&page=11&sort=newest',\n",
       " 'https://search.api.cnn.com/content?q=amazon&size=10&from=110&page=12&sort=newest',\n",
       " 'https://search.api.cnn.com/content?q=amazon&size=10&from=120&page=13&sort=newest',\n",
       " 'https://search.api.cnn.com/content?q=amazon&size=10&from=130&page=14&sort=newest',\n",
       " 'https://search.api.cnn.com/content?q=amazon&size=10&from=140&page=15&sort=newest',\n",
       " 'https://search.api.cnn.com/content?q=amazon&size=10&from=150&page=16&sort=newest',\n",
       " 'https://search.api.cnn.com/content?q=amazon&size=10&from=160&page=17&sort=newest',\n",
       " 'https://search.api.cnn.com/content?q=amazon&size=10&from=170&page=18&sort=newest',\n",
       " 'https://search.api.cnn.com/content?q=amazon&size=10&from=180&page=19&sort=newest',\n",
       " 'https://search.api.cnn.com/content?q=amazon&size=10&from=190&page=20&sort=newest']"
      ]
     },
     "execution_count": 20,
     "metadata": {},
     "output_type": "execute_result"
    }
   ],
   "source": [
    "urls"
   ]
  },
  {
   "cell_type": "code",
   "execution_count": 28,
   "metadata": {},
   "outputs": [],
   "source": [
    "t = []\n",
    "c = []\n",
    "l = []\n",
    "s = []\n",
    "def get_news(urls):\n",
    "    for j in urls:\n",
    "\n",
    "        options = Options()\n",
    "        options.add_argument(\"--incognito\")\n",
    "        # options.add_experimental_option(\"excludeSwitches\", [\"enable-automation\"])\n",
    "        # options.add_experimental_option('useAutomationExtension', False)\n",
    "        options.chrome_exectable_path = \"./crawler_final/chromedriver.exe\"\n",
    "\n",
    "        driver = webdriver.Chrome(options=options)\n",
    "        driver.get(j)\n",
    "        content = driver.find_element(By.TAG_NAME, 'Pre').text\n",
    "        parsed_json = json.loads(content)\n",
    "        time.sleep(10)\n",
    "\n",
    "\n",
    "        for i in parsed_json['result']:\n",
    "            if i['lastPublishDate'] == None:\n",
    "                pass\n",
    "            else:\n",
    "                t.append(i['headline'])\n",
    "                c.append(i['url'])\n",
    "                l.append(i['lastPublishDate'])\n",
    "                s.append(i['body'])"
   ]
  },
  {
   "cell_type": "code",
   "execution_count": 29,
   "metadata": {},
   "outputs": [],
   "source": [
    "get_news(urls)"
   ]
  },
  {
   "cell_type": "code",
   "execution_count": 33,
   "metadata": {},
   "outputs": [],
   "source": [
    "a = pd.DataFrame({'title':t, 'content': s,'url':c}, index = l)\n",
    "a"
   ]
  },
  {
   "cell_type": "code",
   "execution_count": 25,
   "metadata": {},
   "outputs": [],
   "source": [
    "# title = []\n",
    "# text = []\n",
    "# date = []\n",
    "# def all(url):\n",
    "#     for i in url:\n",
    "#         try:\n",
    "#             print(i)\n",
    "#             article = Article(i)\n",
    "#             article.download()\n",
    "#             article.parse()\n",
    "#             title.append(article.title)\n",
    "#             text.append(article.text)\n",
    "#             date.append(article.publish_date)\n",
    "#         except:\n",
    "#             continue"
   ]
  },
  {
   "cell_type": "code",
   "execution_count": 26,
   "metadata": {},
   "outputs": [],
   "source": [
    "# all(data)"
   ]
  },
  {
   "cell_type": "code",
   "execution_count": 27,
   "metadata": {},
   "outputs": [],
   "source": [
    "# final = pd.DataFrame({'title':title, 'content':text}, index = date)\n",
    "# final"
   ]
  }
 ],
 "metadata": {
  "kernelspec": {
   "display_name": "Python 3.11.0 64-bit",
   "language": "python",
   "name": "python3"
  },
  "language_info": {
   "codemirror_mode": {
    "name": "ipython",
    "version": 3
   },
   "file_extension": ".py",
   "mimetype": "text/x-python",
   "name": "python",
   "nbconvert_exporter": "python",
   "pygments_lexer": "ipython3",
   "version": "3.11.0"
  },
  "orig_nbformat": 4,
  "vscode": {
   "interpreter": {
    "hash": "5238573367df39f7286bb46f9ff5f08f63a01a80960060ce41e3c79b190280fa"
   }
  }
 },
 "nbformat": 4,
 "nbformat_minor": 2
}
